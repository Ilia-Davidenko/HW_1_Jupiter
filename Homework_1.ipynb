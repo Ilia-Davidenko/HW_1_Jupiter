{
 "cells": [
  {
   "cell_type": "markdown",
   "id": "d17d0c52",
   "metadata": {},
   "source": [
    "## Задача 1\n",
    "На складе лежат разные фрукты в разном количестве.\n",
    "Нужно написать функцию, которая на вход принимает любое количество названий фруктов и их количество, а возвращает общее количество фруктов на складе"
   ]
  },
  {
   "cell_type": "code",
   "execution_count": 24,
   "id": "cbf1fcea",
   "metadata": {},
   "outputs": [],
   "source": [
    "def warehouse(**kwargs):\n",
    "    summ = 0\n",
    "    for vegetables, amount in kwargs.items():\n",
    "        print(f'{vegetables} - {amount}')\n",
    "        summ = summ + amount\n",
    "    return f'Всего овощей на складе {summ}'"
   ]
  },
  {
   "cell_type": "code",
   "execution_count": 26,
   "id": "4cad3c0c",
   "metadata": {},
   "outputs": [
    {
     "name": "stdout",
     "output_type": "stream",
     "text": [
      "banana - 10\n",
      "orange - 15\n",
      "apple - 8\n"
     ]
    },
    {
     "data": {
      "text/plain": [
       "'Всего овощей на складе 33'"
      ]
     },
     "execution_count": 26,
     "metadata": {},
     "output_type": "execute_result"
    }
   ],
   "source": [
    "warehouse(banana = 10, orange = 15, apple = 8)"
   ]
  },
  {
   "cell_type": "markdown",
   "id": "849e3aa6",
   "metadata": {},
   "source": [
    "## Задача 2\n",
    "Дан список с затратами на рекламу. Но в данных есть ошибки, некоторые затраты имеют отрицательную величину. Удалите такие значения из списка и посчитайте суммарные затраты\n",
    "\n",
    "[100, 125, -90, 345, 655, -1, 0, 200]\n",
    "\n",
    "Используйте list comprehensions"
   ]
  },
  {
   "cell_type": "code",
   "execution_count": 44,
   "id": "0b9b7987",
   "metadata": {},
   "outputs": [
    {
     "name": "stdout",
     "output_type": "stream",
     "text": [
      "[100, 125, 345, 655, 200]\n",
      "Общие затраты на рекламу 1334\n"
     ]
    }
   ],
   "source": [
    "orig_prises = [100, 125, -90, 345, 655, -1, 0, 200]\n",
    "\n",
    "prises = []\n",
    "sum_expenses = 0\n",
    "for i in orig_prises:\n",
    "    if i > 0:\n",
    "        prises.append(i)\n",
    "    sum_expenses += i\n",
    "print(prises)\n",
    "print(f'Общие затраты на рекламу {sum_expenses}')\n"
   ]
  },
  {
   "cell_type": "code",
   "execution_count": 54,
   "id": "ff28b6f0",
   "metadata": {},
   "outputs": [
    {
     "data": {
      "text/plain": [
       "[100, 125, 345, 655, 200]"
      ]
     },
     "execution_count": 54,
     "metadata": {},
     "output_type": "execute_result"
    }
   ],
   "source": [
    "orig_prises = [100, 125, -90, 345, 655, -1, 0, 200]\n",
    "\n",
    "prises = [i for i in orig_prises if i > 0]\n",
    "prises"
   ]
  },
  {
   "cell_type": "markdown",
   "id": "db3d5951",
   "metadata": {},
   "source": [
    "## Задача 3\n",
    "Даны два списка.\n",
    "\n",
    "Дата покупки\n",
    "\n",
    "['2021-09-14', '2021-12-15', '2021-09-08', '2021-12-05', '2021-10-09', '2021-09-30', '2021-12-22', '2021-11-29', \n",
    " '2021-12-24', '2021-11-26', '2021-10-27', '2021-12-18', '2021-11-09', '2021-11-23', '2021-09-27', '2021-10-02', \n",
    " '2021-12-27', '2021-09-20', '2021-12-13', '2021-11-01', '2021-11-09', '2021-12-06', '2021-12-08', '2021-10-09', \n",
    " '2021-10-31', '2021-09-30', '2021-11-09', '2021-12-13', '2021-10-26', '2021-12-09']\n",
    " \n",
    "Суммы покупок по датам\n",
    "\n",
    "[1270, 8413, 9028, 3703, 5739, 4095, 295, 4944, 5723, 3701, 4471, 651, 7037, 4274, 6275, 4988, 6930, 2971, 6592, \n",
    " 2004, 2822, 519, 3406, 2732, 5015, 2008, 316, 6333, 5700, 2887]\n"
   ]
  },
  {
   "cell_type": "markdown",
   "id": "de91b495",
   "metadata": {},
   "source": [
    "### Найдите, какая выручка у компании в ноябре\n",
    " \n",
    "Используйте list comprehensions"
   ]
  },
  {
   "cell_type": "code",
   "execution_count": 2,
   "id": "ea2b0a01",
   "metadata": {},
   "outputs": [
    {
     "data": {
      "text/plain": [
       "{'2021-09-14': 1270,\n",
       " '2021-12-15': 8413,\n",
       " '2021-09-08': 9028,\n",
       " '2021-12-05': 3703,\n",
       " '2021-10-09': 2732,\n",
       " '2021-09-30': 2008,\n",
       " '2021-12-22': 295,\n",
       " '2021-11-29': 4944,\n",
       " '2021-12-24': 5723,\n",
       " '2021-11-26': 3701,\n",
       " '2021-10-27': 4471,\n",
       " '2021-12-18': 651,\n",
       " '2021-11-09': 316,\n",
       " '2021-11-23': 4274,\n",
       " '2021-09-27': 6275,\n",
       " '2021-10-02': 4988,\n",
       " '2021-12-27': 6930,\n",
       " '2021-09-20': 2971,\n",
       " '2021-12-13': 6333,\n",
       " '2021-11-01': 2004,\n",
       " '2021-12-06': 519,\n",
       " '2021-12-08': 3406,\n",
       " '2021-10-31': 5015,\n",
       " '2021-10-26': 5700,\n",
       " '2021-12-09': 2887}"
      ]
     },
     "execution_count": 2,
     "metadata": {},
     "output_type": "execute_result"
    }
   ],
   "source": [
    "def all_purchases(date, summ):\n",
    "    purchase = {}\n",
    "    for i in range(len(date)):\n",
    "        purchase.update(\n",
    "        {\n",
    "            date[i]: summ[i]\n",
    "        }\n",
    "        )\n",
    "    return purchase\n",
    "\n",
    "dates = ['2021-09-14', '2021-12-15', '2021-09-08', '2021-12-05', '2021-10-09', '2021-09-30', '2021-12-22', \n",
    "        '2021-11-29', '2021-12-24', '2021-11-26', '2021-10-27', '2021-12-18', '2021-11-09', '2021-11-23', \n",
    "        '2021-09-27', '2021-10-02', '2021-12-27', '2021-09-20', '2021-12-13', '2021-11-01', '2021-11-09', \n",
    "        '2021-12-06', '2021-12-08', '2021-10-09', '2021-10-31', '2021-09-30', '2021-11-09', '2021-12-13', \n",
    "        '2021-10-26', '2021-12-09']\n",
    "summ = [1270, 8413, 9028, 3703, 5739, 4095, 295, 4944, 5723, 3701, 4471, 651, 7037, 4274, 6275, 4988, 6930, \n",
    "        2971, 6592, 2004, 2822, 519, 3406, 2732, 5015, 2008, 316, 6333, 5700, 2887]\n",
    "all_purchases(dates, summ)"
   ]
  },
  {
   "cell_type": "code",
   "execution_count": 4,
   "id": "3b5b9de3",
   "metadata": {},
   "outputs": [
    {
     "data": {
      "text/plain": [
       "25098"
      ]
     },
     "execution_count": 4,
     "metadata": {},
     "output_type": "execute_result"
    }
   ],
   "source": [
    "sum([summ[i] for i in range(len(dates)) if dates[i].split('-')[1] == '11'])"
   ]
  },
  {
   "cell_type": "markdown",
   "id": "f5aa2a2b",
   "metadata": {},
   "source": [
    "### 4.2 Найдите выручку компании в зависимости от месяца\n",
    "Для этого напишите функцию, которая на вход принимает список с датами и список с выручкой, а на выходе словарь, где ключи - это месяцы, а значения - это выручка.\n",
    "Используйте аннотирование типов."
   ]
  },
  {
   "cell_type": "code",
   "execution_count": 5,
   "id": "76cbae30",
   "metadata": {},
   "outputs": [
    {
     "data": {
      "text/plain": [
       "{'09': 25647, '12': 45452, '10': 28645, '11': 25098}"
      ]
     },
     "execution_count": 5,
     "metadata": {},
     "output_type": "execute_result"
    }
   ],
   "source": [
    "def revenue_by_mounth(dates, summ):\n",
    "    revenue = {}\n",
    "    \n",
    "    for i in range(len(dates)):\n",
    "        mounth = dates[i].split('-')[1]\n",
    "        if mounth in revenue.keys():\n",
    "            revenue[mounth] += summ[i]\n",
    "        else:\n",
    "            revenue[mounth] = summ[i]\n",
    "    return revenue\n",
    "revenue_by_mounth(dates, summ)"
   ]
  },
  {
   "cell_type": "code",
   "execution_count": null,
   "id": "4d5201ad",
   "metadata": {},
   "outputs": [],
   "source": []
  }
 ],
 "metadata": {
  "kernelspec": {
   "display_name": "Python 3 (ipykernel)",
   "language": "python",
   "name": "python3"
  },
  "language_info": {
   "codemirror_mode": {
    "name": "ipython",
    "version": 3
   },
   "file_extension": ".py",
   "mimetype": "text/x-python",
   "name": "python",
   "nbconvert_exporter": "python",
   "pygments_lexer": "ipython3",
   "version": "3.9.12"
  }
 },
 "nbformat": 4,
 "nbformat_minor": 5
}
